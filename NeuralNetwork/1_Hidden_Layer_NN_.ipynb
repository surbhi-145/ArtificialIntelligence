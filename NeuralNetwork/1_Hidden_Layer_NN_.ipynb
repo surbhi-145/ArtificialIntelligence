{
  "nbformat": 4,
  "nbformat_minor": 0,
  "metadata": {
    "colab": {
      "name": "1 Hidden Layer NN .ipynb",
      "provenance": [],
      "authorship_tag": "ABX9TyOSeUwf4StXBRcFKz0KT9LD",
      "include_colab_link": true
    },
    "kernelspec": {
      "name": "python3",
      "display_name": "Python 3"
    }
  },
  "cells": [
    {
      "cell_type": "markdown",
      "metadata": {
        "id": "view-in-github",
        "colab_type": "text"
      },
      "source": [
        "<a href=\"https://colab.research.google.com/github/surbhi-145/ArtificialIntelligence/blob/master/NeuralNetwork/1_Hidden_Layer_NN_.ipynb\" target=\"_parent\"><img src=\"https://colab.research.google.com/assets/colab-badge.svg\" alt=\"Open In Colab\"/></a>"
      ]
    },
    {
      "cell_type": "markdown",
      "metadata": {
        "id": "kacU10IC9sfp",
        "colab_type": "text"
      },
      "source": [
        "**Simple Neural Network**\\\n",
        "This is a simple general purpose Neural Network with 1 hidden layer.\\\n",
        "Librararies used : numpy, scipy\n",
        "1. Initialise method initialises the layers , learning rate , weights and activation function.\n",
        "2. The train function is used to train the Neural Netowrk through forward and backwared propogation.\n",
        "3. The query function is used to get the output answer for a given input. \n",
        "\n",
        "\n"
      ]
    },
    {
      "cell_type": "code",
      "metadata": {
        "id": "xvBphX96jVrZ",
        "colab_type": "code",
        "colab": {}
      },
      "source": [
        "import numpy as np\n",
        "import scipy.special "
      ],
      "execution_count": 50,
      "outputs": []
    },
    {
      "cell_type": "code",
      "metadata": {
        "id": "zoOg0bVZg9eP",
        "colab_type": "code",
        "colab": {}
      },
      "source": [
        "class NeuralNetwork :\n",
        "\n",
        "  #initialize the neural network \n",
        "  def __init__(self, inputnodes, hiddennodes, outputnodes, learningrate):\n",
        "    self.inodes = inputnodes\n",
        "    self.hnodes = hiddennodes\n",
        "    self.onodes = outputnodes\n",
        "    self.lr = learningrate\n",
        "\n",
        "    #initial weights , we consider random values from normal distribution. \n",
        "    # np.random.normal(center, standard deviation, size of the matrix)\n",
        "    # remember the standard distribuiton covered in the textbook\n",
        "    self.wih = np.random.normal(0.0, pow(self.hnodes, -0.5), (self.hnodes, self.inodes))\n",
        "    self.who = np.random.normal(0.0, pow(self.onodes, -0.5), (self.onodes, self.hnodes))\n",
        "\n",
        "    #initialse the activation function ( sigmoid function )\n",
        "    self.activation_function = lambda x : scipy.special.expit(x)\n",
        "    \n",
        "\n",
        "  #train the neural network \n",
        "  def train(self, input_list, output_list):\n",
        "    \n",
        "    #convert to numpy array\n",
        "    inputs = np.array(input_list, ndmin=2).T\n",
        "    targets = np.array(output_list, ndmin=2).T\n",
        "\n",
        "    #Forward Propogation\n",
        "    #calculate the hidden_outputs\n",
        "    hidden_inputs = np.dot(self.wih, inputs)\n",
        "    hidden_outputs = self.activation_function(hidden_inputs)\n",
        "    #final outputs\n",
        "    final_inputs = np.dot(self.who, hidden_outputs)\n",
        "    final_outputs = self.activation_function(final_inputs)\n",
        "\n",
        "    #Backward Propogation \n",
        "    #error calculation\n",
        "    output_errors = targets - final_outputs\n",
        "    hidden_erros = np.dot(self.who.T, output_errors)\n",
        "    #Update the weights\n",
        "    self.who += self.lr * np.dot((output_errors * final_outputs * (1-final_outputs)), np.transpose(hidden_outputs))\n",
        "    self.wih += self.lr * np.dot((hidden_errors * hidden_ouputs * (1-hidden_ouputs)), np.transpose(inputs))\n",
        "\n",
        "\n",
        "    pass\n",
        "\n",
        "\n",
        "  #query the neural network\n",
        "  # returns the output for a given input \n",
        "  def query(self, input_list):\n",
        "\n",
        "    #convert to numpy array\n",
        "    inputs = np.array(input_list, ndmin=2).T\n",
        "\n",
        "    #input layer to hidden layer \n",
        "    #hidden input (linear regression)\n",
        "    hidden_inputs = np.dot(self.wih, inputs)\n",
        "    #hidden output for the hidden input (using sigmoid function)\n",
        "    hidden_outputs = self.activation_function(hidden_inputs)\n",
        "\n",
        "    #hidden layer to output layer \n",
        "    final_inputs = np.dot(self.who, hidden_outputs)\n",
        "    final_outputs = self.activation_function(final_inputs)\n",
        "\n",
        "    return final_outputs\n",
        "    \n",
        "\n"
      ],
      "execution_count": 51,
      "outputs": []
    },
    {
      "cell_type": "code",
      "metadata": {
        "id": "ATi6Vfvyhd5Z",
        "colab_type": "code",
        "colab": {}
      },
      "source": [
        "#Creating an instance of the Neural Network \n",
        "input_nodes = 3\n",
        "output_nodes = 3\n",
        "hidden_nodes = 3\n",
        "learning_rate = 0.3\n",
        "n = NeuralNetwork(input_nodes, hidden_nodes,output_nodes,learning_rate)"
      ],
      "execution_count": 52,
      "outputs": []
    },
    {
      "cell_type": "code",
      "metadata": {
        "id": "j4d3aGMEo1G3",
        "colab_type": "code",
        "colab": {
          "base_uri": "https://localhost:8080/",
          "height": 68
        },
        "outputId": "760adde8-29f4-41ce-ca33-57a3993f5e60"
      },
      "source": [
        "n.query([1.0, 0.5, -1.5])"
      ],
      "execution_count": 53,
      "outputs": [
        {
          "output_type": "execute_result",
          "data": {
            "text/plain": [
              "array([[0.42290598],\n",
              "       [0.34401879],\n",
              "       [0.47771762]])"
            ]
          },
          "metadata": {
            "tags": []
          },
          "execution_count": 53
        }
      ]
    }
  ]
}