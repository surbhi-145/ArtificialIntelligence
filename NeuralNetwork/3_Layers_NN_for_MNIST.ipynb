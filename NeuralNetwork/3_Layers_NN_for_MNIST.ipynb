{
  "nbformat": 4,
  "nbformat_minor": 0,
  "metadata": {
    "colab": {
      "name": "3 Layers NN for MNIST.ipynb",
      "provenance": [],
      "authorship_tag": "ABX9TyOtnnUFzNGx2lEDS6Y5Vzgu",
      "include_colab_link": true
    },
    "kernelspec": {
      "name": "python3",
      "display_name": "Python 3"
    }
  },
  "cells": [
    {
      "cell_type": "markdown",
      "metadata": {
        "id": "view-in-github",
        "colab_type": "text"
      },
      "source": [
        "<a href=\"https://colab.research.google.com/github/surbhi-145/ArtificialIntelligence/blob/master/NeuralNetwork/3_Layers_NN_for_MNIST.ipynb\" target=\"_parent\"><img src=\"https://colab.research.google.com/assets/colab-badge.svg\" alt=\"Open In Colab\"/></a>"
      ]
    },
    {
      "cell_type": "markdown",
      "metadata": {
        "id": "W44WddRcMCUI",
        "colab_type": "text"
      },
      "source": [
        "**Training the Neural Network**"
      ]
    },
    {
      "cell_type": "code",
      "metadata": {
        "id": "LNmhYCBKL_S1",
        "colab_type": "code",
        "colab": {}
      },
      "source": [
        "import numpy as np\n",
        "import scipy.special \n",
        "import matplotlib.pyplot as plt \n",
        "%matplotlib inline"
      ],
      "execution_count": 7,
      "outputs": []
    },
    {
      "cell_type": "code",
      "metadata": {
        "id": "XdL8bC1YMiht",
        "colab_type": "code",
        "colab": {}
      },
      "source": [
        "class NeuralNetwork:\n",
        "\n",
        "  def __init__(self, inputnodes, hiddennodes,outputnodes,learningrate):\n",
        "    self.inodes = inputnodes\n",
        "    self.hnodes = hiddennodes\n",
        "    self.onodes = outputnodes\n",
        "\n",
        "    self.wih = np.random.normal(0.0, pow(self.hnodes, -0.5), (self.hnodes, self.inodes))\n",
        "    self.who = np.random.normal(0.0, pow(self.onodes, -0.5), (self.onodes, self.hnodes))\n",
        "\n",
        "    self.lr = learningrate\n",
        "    self.activation_function = lambda x : scipy.special.expit(x)\n",
        "    self.inverse_activation_function = lambda x: scipy.special.logit(x)\n",
        "    pass\n",
        "\n",
        "  def train(self, inputs_list, targets_list):\n",
        "\n",
        "    inputs = np.array(inputs_list, ndmin =2).T\n",
        "    targets = np.array(targets_list, ndmin= 2).T\n",
        "\n",
        "    hidden_inputs = np.dot(self.wih, inputs)\n",
        "    hidden_outputs = self.activation_function(hidden_inputs)\n",
        "\n",
        "    final_inputs = np.dot(self.who, hidden_outputs)\n",
        "    final_outputs = self.activation_function(final_inputs)\n",
        "\n",
        "    output_errors = targets - final_outputs\n",
        "    hidden_errors = np.dot(self.who.T, output_errors)\n",
        "\n",
        "    self.who += self.lr * np.dot((output_errors * final_outputs * (1.0-final_outputs)), np.transpose(hidden_outputs))\n",
        "    self.wih += self.lr * np.dot((hidden_errors * hidden_outputs * (1.0-hidden_outputs)), np.transpose(inputs))\n",
        "    pass\n",
        "  \n",
        "  def query(self, inputs_list):\n",
        "  \n",
        "    inputs = np.array(inputs_list, ndmin=2).T\n",
        "\n",
        "    hidden_inputs = np.dot(self.wih, inputs)\n",
        "    hidden_outputs = self.activation_function(hidden_inputs)\n",
        "\n",
        "    final_inputs = np.dot(self.who, hidden_outputs)\n",
        "    final_outputs = self.activation_function(final_inputs)\n",
        "\n",
        "    return final_outputs\n",
        "  \n",
        "  def backquery(self, targets_list):\n",
        "\n",
        "    final_outputs = np.array(targets_list, ndmin = 2).T\n",
        "    final_inputs = self.inverse_activation_function(final_outputs)\n",
        "\n",
        "    # calculate the signal out of the hidden layer\n",
        "    hidden_outputs = np.dot(self.who.T, final_inputs)\n",
        "    # scale them back to 0.01 to .99\n",
        "    hidden_outputs -= np.min(hidden_outputs)\n",
        "    hidden_outputs /= np.max(hidden_outputs)\n",
        "    hidden_outputs *= 0.98\n",
        "    hidden_outputs += 0.01\n",
        "        \n",
        "    # calculate the signal into the hidden layer\n",
        "    hidden_inputs = self.inverse_activation_function(hidden_outputs)\n",
        "        \n",
        "    # calculate the signal out of the input layer\n",
        "    inputs = np.dot(self.wih.T, hidden_inputs)\n",
        "    # scale them back to 0.01 to .99\n",
        "    inputs -= np.min(inputs)\n",
        "    inputs /= np.max(inputs)\n",
        "    inputs *= 0.98\n",
        "    inputs += 0.01\n",
        "        \n",
        "    return inputs\n",
        "    "
      ],
      "execution_count": 8,
      "outputs": []
    },
    {
      "cell_type": "markdown",
      "metadata": {
        "id": "EZrCI7s3RKAo",
        "colab_type": "text"
      },
      "source": [
        "We train our model for each pixel . Therefore input_nodes are 784 (28 x 28) and the output nodes are 10, which is for each digit. The choice for number of nodes in the hidden layer is arbitary. It should be lesser than input nodes, so that we are trying to summarise the feautures in each layer. "
      ]
    },
    {
      "cell_type": "code",
      "metadata": {
        "id": "e-ufdkkWOi6c",
        "colab_type": "code",
        "colab": {}
      },
      "source": [
        "#Initialise\n",
        "input_nodes = 784\n",
        "hidden_nodes = 200\n",
        "output_nodes = 10\n",
        "learning_rate= 0.1\n",
        "\n",
        "n = NeuralNetwork(input_nodes, hidden_nodes, output_nodes, learning_rate)"
      ],
      "execution_count": 9,
      "outputs": []
    },
    {
      "cell_type": "code",
      "metadata": {
        "id": "8flGqTP7PFsr",
        "colab_type": "code",
        "colab": {}
      },
      "source": [
        "#Load Data \n",
        "training_data_file = open('sample_data/mnist_train_small.csv', 'r')\n",
        "training_data_list = training_data_file.readlines()\n",
        "training_data_file.close()"
      ],
      "execution_count": 10,
      "outputs": []
    },
    {
      "cell_type": "code",
      "metadata": {
        "id": "h9Q7qnbAPXyv",
        "colab_type": "code",
        "colab": {}
      },
      "source": [
        "#Train the Neural Network \n",
        "#epoch is the number of times you train your model \n",
        "epoch = 5\n",
        "for e in range(epoch): \n",
        "  for record in training_data_list:\n",
        "    all_values = record.split(',')\n",
        "    inputs = (np.asfarray(all_values[1:])/255 * 0.99) + 0.01\n",
        "    targets = np.zeros(output_nodes) + 0.01\n",
        "    targets[int(all_values[0])] = 0.99\n",
        "    n.train(inputs,targets)\n",
        "    pass\n",
        "  pass"
      ],
      "execution_count": 11,
      "outputs": []
    },
    {
      "cell_type": "code",
      "metadata": {
        "id": "LEqwI6NuR5eS",
        "colab_type": "code",
        "colab": {}
      },
      "source": [
        "#Test\n",
        "test_data_file = open('mnist_test.csv', 'r')\n",
        "test_data_list = test_data_file.readlines()\n",
        "test_data_file.close()\n",
        "\n",
        "scorecard = []\n",
        "\n",
        "for record in test_data_list:\n",
        "  all_values = record.split(',')\n",
        "  correct_label = int(all_values[0])\n",
        "  inputs = (np.asfarray(all_values[1:])/255 * 0.99) + 0.01\n",
        "  outputs = n.query(inputs)\n",
        "  #index of the highest value\n",
        "  label = np.argmax(outputs)\n",
        "  if label==correct_label:\n",
        "    scorecard.append(1)\n",
        "  else:\n",
        "    scorecard.append(0)\n",
        "  pass"
      ],
      "execution_count": 12,
      "outputs": []
    },
    {
      "cell_type": "code",
      "metadata": {
        "id": "JM4Dz-BmUNO9",
        "colab_type": "code",
        "colab": {
          "base_uri": "https://localhost:8080/",
          "height": 34
        },
        "outputId": "388201b2-04e1-44a0-9004-37f17da1c10f"
      },
      "source": [
        "#Result\n",
        "scorecard_array = np.asarray(scorecard)\n",
        "print(\"Accuracy = \",  scorecard_array.sum() / scorecard_array.size)"
      ],
      "execution_count": 13,
      "outputs": [
        {
          "output_type": "stream",
          "text": [
            "Accuracy =  0.9649\n"
          ],
          "name": "stdout"
        }
      ]
    },
    {
      "cell_type": "code",
      "metadata": {
        "id": "bVNiyDCPVxdu",
        "colab_type": "code",
        "colab": {
          "base_uri": "https://localhost:8080/",
          "height": 299
        },
        "outputId": "ddc0f8be-3206-403b-c2c6-d933228906cc"
      },
      "source": [
        "#Backquery\n",
        "\n",
        "\n",
        "#Run for label 0\n",
        "label = 0\n",
        "# create the output signals for this label\n",
        "targets = np.zeros(output_nodes) + 0.01\n",
        "# all_values[0] is the target label for this record\n",
        "targets[label] = 0.99\n",
        "print(targets)\n",
        "\n",
        "# get image data\n",
        "image_data = n.backquery(targets)\n",
        "\n",
        "# plot image data\n",
        "plt.imshow(image_data.reshape(28,28), cmap='Greys', interpolation='None')"
      ],
      "execution_count": 14,
      "outputs": [
        {
          "output_type": "stream",
          "text": [
            "[0.99 0.01 0.01 0.01 0.01 0.01 0.01 0.01 0.01 0.01]\n"
          ],
          "name": "stdout"
        },
        {
          "output_type": "execute_result",
          "data": {
            "text/plain": [
              "<matplotlib.image.AxesImage at 0x7fa919df4f28>"
            ]
          },
          "metadata": {
            "tags": []
          },
          "execution_count": 14
        },
        {
          "output_type": "display_data",
          "data": {
            "image/png": "[encoded data removed]",
            "text/plain": [
              "<Figure size 432x288 with 1 Axes>"
            ]
          },
          "metadata": {
            "tags": [],
            "needs_background": "light"
          }
        }
      ]
    }
  ]
}